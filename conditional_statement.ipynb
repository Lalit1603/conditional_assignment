{
 "cells": [
  {
   "cell_type": "code",
   "execution_count": 4,
   "id": "569ee420",
   "metadata": {},
   "outputs": [
    {
     "name": "stdout",
     "output_type": "stream",
     "text": [
      "Enter any Number:--99\n",
      "The Given Number is Negative\n"
     ]
    }
   ],
   "source": [
    "# 1. Write a Python program to check if a given number is positive or negative.\n",
    "n=int(input(\"Enter any Number:-\"))\n",
    "if n>0:\n",
    "    print(\"The Given Number is Positive\")\n",
    "elif n==0:\n",
    "    print(\"The Given Number is Zero\")\n",
    "else:\n",
    "    print(\"The Given Number is Negative\")"
   ]
  },
  {
   "cell_type": "code",
   "execution_count": 6,
   "id": "653f5451",
   "metadata": {},
   "outputs": [
    {
     "name": "stdout",
     "output_type": "stream",
     "text": [
      "Enter the Age of person:10\n",
      "Person is Not Eligible for Vote\n"
     ]
    }
   ],
   "source": [
    "#2. Create a program that determines if a person is eligible to vote based on their age.\n",
    "age=int(input(\"Enter the Age of person:\"))\n",
    "if age>=18:\n",
    "    print(\"Person is Eligible to Vote\")\n",
    "else:\n",
    "    print(\"Person is Not Eligible for Vote\")"
   ]
  },
  {
   "cell_type": "code",
   "execution_count": 9,
   "id": "6c65e985",
   "metadata": {},
   "outputs": [
    {
     "name": "stdout",
     "output_type": "stream",
     "text": [
      "Enter a First Number:-2\n",
      "Enter a Second Number:-11\n",
      "Second Number is Maximum \n"
     ]
    }
   ],
   "source": [
    "#3. Develop a program to find the maximum of two numbers using if-else statements.\n",
    "num1=int(input(\"Enter a First Number:-\"))\n",
    "num2=int(input(\"Enter a Second Number:-\"))\n",
    "if num1<num2:\n",
    "    print(\"Second Number is Maximum \")\n",
    "elif num1==num2:\n",
    "    print(\"Both Numbers are equal\")\n",
    "else:\n",
    "    print(\"First Number is Maximum\")"
   ]
  },
  {
   "cell_type": "code",
   "execution_count": 57,
   "id": "01833e24",
   "metadata": {},
   "outputs": [
    {
     "name": "stdout",
     "output_type": "stream",
     "text": [
      "Enter a Year:-2100\n",
      "The Given year is Not Leap Year\n"
     ]
    }
   ],
   "source": [
    "#4. Write a Python script to classify a given year as a leap year or not.\n",
    "year=int(input(\"Enter a Year:-\"))\n",
    "if year%4==0 and year%100!=0:\n",
    "    print(\"The Given year is Leap Year\")\n",
    "else:\n",
    "    print(\"The Given year is Not Leap Year\")\n"
   ]
  },
  {
   "cell_type": "code",
   "execution_count": 15,
   "id": "ef2efa20",
   "metadata": {},
   "outputs": [
    {
     "name": "stdout",
     "output_type": "stream",
     "text": [
      "Enter a any Charw\n",
      "The given char is not vowel\n"
     ]
    }
   ],
   "source": [
    "#5. Create a program that checks whether a character is a vowel or a consonant.\n",
    "vowel=['a','i','o','u','e']\n",
    "char=input(\"Enter a any Char\")\n",
    "if char in vowel:\n",
    "    print(\"The given char is vowel\")\n",
    "else:\n",
    "    print(\"The given char is not vowel\")"
   ]
  },
  {
   "cell_type": "code",
   "execution_count": 17,
   "id": "aa4ef7ea",
   "metadata": {},
   "outputs": [
    {
     "name": "stdout",
     "output_type": "stream",
     "text": [
      "Enter a Number:-90\n",
      "The given number is even\n"
     ]
    }
   ],
   "source": [
    "#6. Implement a program to determine whether a given number is even or odd.\n",
    "num_1=int(input(\"Enter a Number:-\"))\n",
    "if num_1%2==0:\n",
    "    print(\"The given number is even\")\n",
    "else:\n",
    "    print(\"The given number is odd\")"
   ]
  },
  {
   "cell_type": "code",
   "execution_count": 19,
   "id": "28f7c30e",
   "metadata": {},
   "outputs": [
    {
     "name": "stdout",
     "output_type": "stream",
     "text": [
      "Enter a Number:--11\n"
     ]
    },
    {
     "data": {
      "text/plain": [
       "11"
      ]
     },
     "execution_count": 19,
     "metadata": {},
     "output_type": "execute_result"
    }
   ],
   "source": [
    "#7. Write a Python function to calculate the absolute value of a number without using the `abs()` function.\n",
    "def absolute_value(num):\n",
    "    if num<0:\n",
    "        return -num\n",
    "    else:\n",
    "        return num\n",
    "\n",
    "number=int(input(\"Enter a Number:-\"))\n",
    "absolute_value(number)\n"
   ]
  },
  {
   "cell_type": "code",
   "execution_count": 26,
   "id": "d5cd0015",
   "metadata": {},
   "outputs": [
    {
     "name": "stdout",
     "output_type": "stream",
     "text": [
      "Enter a Fisrt Number:-10\n",
      "Enter a Second Number:-50\n",
      "Enter a Third NUmber:-20\n",
      "Largest Number is: 50\n"
     ]
    }
   ],
   "source": [
    "#8. Develop a program that determines the largest of three given numbers using if-else statements.\n",
    "num1=int(input(\"Enter a Fisrt Number:-\"))\n",
    "num2=int(input(\"Enter a Second Number:-\"))\n",
    "num3=int(input(\"Enter a Third NUmber:-\"))\n",
    "if num1<num2 and num2<num3:\n",
    "    print(\"Largest Number is:\",num3)\n",
    "elif num2>num1 and num2>num3:\n",
    "    print(\"Largest Number is:\",num2)\n",
    "elif num1==num2 and num2==num3:\n",
    "    print(\"All Three Numbers are Equal\")\n",
    "else:\n",
    "    print(\"Largest Number is:\",num1)\n",
    "  "
   ]
  },
  {
   "cell_type": "code",
   "execution_count": 29,
   "id": "bea6a59e",
   "metadata": {},
   "outputs": [
    {
     "name": "stdout",
     "output_type": "stream",
     "text": [
      "Enter a any Stringracecar\n",
      "The given String is Palindrome\n"
     ]
    }
   ],
   "source": [
    "#9. Create a program that checks if a given string is a palindrome.\n",
    "string=input(\"Enter a any String\")\n",
    "if string[::1] == string[::-1]:\n",
    "    print(\"The given String is Palindrome\")\n",
    "else:\n",
    "    print(\"The given String is Not Palindrome\")"
   ]
  },
  {
   "cell_type": "code",
   "execution_count": 33,
   "id": "1550bf15",
   "metadata": {},
   "outputs": [
    {
     "name": "stdout",
     "output_type": "stream",
     "text": [
      "Enter a Student Score:-60\n",
      "Grade D\n"
     ]
    }
   ],
   "source": [
    "#10. Write a Python program to calculate the grade based on a student's score.\n",
    "score=float(input(\"Enter a Student Score:-\"))\n",
    "if score>=95:\n",
    "    print(\"Grade A\")\n",
    "elif score>=85:\n",
    "    print(\"Grade B\")\n",
    "elif score>=80 or score>=75:\n",
    "    print(\"Grade C\")\n",
    "else:\n",
    "    print(\"Grade D\")"
   ]
  },
  {
   "cell_type": "code",
   "execution_count": 34,
   "id": "f35a88f8",
   "metadata": {},
   "outputs": [
    {
     "name": "stdout",
     "output_type": "stream",
     "text": [
      "Enter a Fisrt Number:-100\n",
      "Enter a Second Number:-120\n",
      "Enter a Third NUmber:-90\n",
      "Largest Number is: 120\n"
     ]
    }
   ],
   "source": [
    "#11. Write a program to find the largest among three numbers using nested if-else statements.\n",
    "num1=int(input(\"Enter a Fisrt Number:-\"))\n",
    "num2=int(input(\"Enter a Second Number:-\"))\n",
    "num3=int(input(\"Enter a Third NUmber:-\"))\n",
    "if num1<num2 and num2<num3:\n",
    "    print(\"Largest Number is:\",num3)\n",
    "elif num2>num1 and num2>num3:\n",
    "    print(\"Largest Number is:\",num2)\n",
    "elif num1==num2 and num2==num3:\n",
    "    print(\"All Three Numbers are Equal\")\n",
    "else:\n",
    "    print(\"Largest Number is:\",num1)"
   ]
  },
  {
   "cell_type": "code",
   "execution_count": 59,
   "id": "c57c7482",
   "metadata": {},
   "outputs": [
    {
     "data": {
      "text/plain": [
       "'Isosceles'"
      ]
     },
     "execution_count": 59,
     "metadata": {},
     "output_type": "execute_result"
    }
   ],
   "source": [
    "#12. Implement a program to determine if a triangle is equilateral, isosceles, or scalene.\n",
    "def checkTriangle(side1,side2,side3):\n",
    "    if side1 == side2 == side3:\n",
    "        return \"Equilateral\"\n",
    "    elif side1 == side2 or side1==side3 or side2==side3:\n",
    "        return \"Isosceles\"\n",
    "    else:\n",
    "        return \"Scalene\"\n",
    "side1=8\n",
    "side2=8\n",
    "side3=9\n",
    "checkTriangle(side1,side2,side3)"
   ]
  },
  {
   "cell_type": "code",
   "execution_count": 4,
   "id": "d936f503",
   "metadata": {},
   "outputs": [
    {
     "name": "stdout",
     "output_type": "stream",
     "text": [
      "Enter a Year:-2100\n"
     ]
    },
    {
     "data": {
      "text/plain": [
       "True"
      ]
     },
     "execution_count": 4,
     "metadata": {},
     "output_type": "execute_result"
    }
   ],
   "source": [
    "#13. Develop a program that checks if a year is a leap year and also if it is a century year.\n",
    "def checkCenturyYear(year):\n",
    "    if year % 100 == 0:\n",
    "        return True\n",
    "    else:\n",
    "        return False\n",
    "year=int(input(\"Enter a Year:-\"))\n",
    "checkCenturyYear(year)"
   ]
  },
  {
   "cell_type": "code",
   "execution_count": 39,
   "id": "eff8bbcc",
   "metadata": {},
   "outputs": [
    {
     "name": "stdout",
     "output_type": "stream",
     "text": [
      "Enter any Number:-90\n",
      "The Given Number is Positive\n"
     ]
    }
   ],
   "source": [
    "#14. Write a Python script to determine if a number is positive, negative, or zero.\n",
    "n=int(input(\"Enter any Number:-\"))\n",
    "if n>0:\n",
    "    print(\"The Given Number is Positive\")\n",
    "elif n==0:\n",
    "    print(\"The Given Number is Zero\")\n",
    "else:\n",
    "    print(\"The Given Number is Negative\")"
   ]
  },
  {
   "cell_type": "code",
   "execution_count": 49,
   "id": "65949e21",
   "metadata": {},
   "outputs": [
    {
     "name": "stdout",
     "output_type": "stream",
     "text": [
      "Enter the Age of person:20\n",
      "Person is Not Teenager\n"
     ]
    }
   ],
   "source": [
    "#15. Create a program to check if a person is a teenager (between 13 and 19 years old).\n",
    "age=int(input(\"Enter the Age of person:\"))\n",
    "if age in range(13,20):\n",
    "    print(\"Person is Teenager\")\n",
    "else:\n",
    "    print(\"Person is Not Teenager\")"
   ]
  },
  {
   "cell_type": "code",
   "execution_count": 6,
   "id": "c8136d2e",
   "metadata": {},
   "outputs": [
    {
     "name": "stdout",
     "output_type": "stream",
     "text": [
      "Enter a Angle:-90\n",
      "Right Angle\n"
     ]
    }
   ],
   "source": [
    "#16. Develop a program that determines the type of angle based on its measure (acute, obtuse, or right).\n",
    "angle=float(input(\"Enter a Angle:-\"))\n",
    "if angle<90:\n",
    "    print(\"Acute Angle\")\n",
    "elif angle==90:\n",
    "    print( \"Right Angle\")\n",
    "elif angle>90 and angle<180:\n",
    "    print(\"Obtuse Angle\")\n",
    "elif angle==180:\n",
    "    print(\"Straight Angle\")\n"
   ]
  },
  {
   "cell_type": "code",
   "execution_count": 7,
   "id": "a5c059aa",
   "metadata": {},
   "outputs": [
    {
     "name": "stdout",
     "output_type": "stream",
     "text": [
      "Enter a coefficient of a:1\n",
      "Enter a coefficient of b:-5\n",
      "Enter a coefficient of c:6\n",
      "The First Root: 3.0\n",
      "The Second Root: 2.0\n"
     ]
    }
   ],
   "source": [
    "#17. Write a Python program to calculate the roots of a quadratic equation.\n",
    "a=int(input(\"Enter a coefficient of a:\"))\n",
    "b=int(input(\"Enter a coefficient of b:\"))\n",
    "c=int(input(\"Enter a coefficient of c:\"))\n",
    "d=(b**2) - (4*a*c)\n",
    "d1=d** 0.5\n",
    "if (d<0):\n",
    "    print(\"The roots are Imaginary\")\n",
    "else:\n",
    "    r1=(-b+d1)/2*a\n",
    "    r2=(-b-d1)/2*a\n",
    "    print(\"The First Root:\",round(r1,2))\n",
    "    print(\"The Second Root:\",round(r2,2))"
   ]
  },
  {
   "cell_type": "code",
   "execution_count": 53,
   "id": "c93573e5",
   "metadata": {},
   "outputs": [
    {
     "name": "stdout",
     "output_type": "stream",
     "text": [
      "Enter a Day of Week:-[1,2,3,4,5,6,7]:-7\n",
      "Sunday\n"
     ]
    }
   ],
   "source": [
    "#18. Implement a program to determine the day of the week based on a user-provided number (1 for Monday, 2\n",
    "#for Tuesday, etc.).\n",
    "day_of_week=int(input(\"Enter a Day of Week:-[1,2,3,4,5,6,7]:-\"))\n",
    "if day_of_week==1:\n",
    "    print(\"Monday\")\n",
    "elif day_of_week==2:\n",
    "    print(\"Tuesday\")\n",
    "elif day_of_week==3:\n",
    "    print(\"Wednesday\")\n",
    "elif day_of_week==4:\n",
    "    print(\"Thursday\")\n",
    "elif day_of_week==5:\n",
    "    print(\"Firday\")\n",
    "elif day_of_week==6:\n",
    "    print(\"Saturday\")\n",
    "elif day_of_week==7:\n",
    "    print(\"Sunday\")\n",
    "else:\n",
    "    print(\"This is not a Valid Day enter by User\")"
   ]
  },
  {
   "cell_type": "code",
   "execution_count": 56,
   "id": "aa21a467",
   "metadata": {},
   "outputs": [
    {
     "name": "stdout",
     "output_type": "stream",
     "text": [
      "Enter a Year:-2040\n",
      "This is a Leap Year\n",
      "It is not Evenly Divisible by 400\n"
     ]
    }
   ],
   "source": [
    "#19. Create a program that determines if a year is a leap year and also if it is evenly divisible by 400.\n",
    "year=int(input(\"Enter a Year:-\"))\n",
    "if year%4==0:\n",
    "    print(\"This is a Leap Year\")\n",
    "    if year%400==0:\n",
    "        print(\"It is Evenly Divisible by 400\")\n",
    "    else:\n",
    "        print(\"It is not Evenly Divisible by 400\")\n"
   ]
  },
  {
   "cell_type": "code",
   "execution_count": 9,
   "id": "3a0d1e63",
   "metadata": {},
   "outputs": [
    {
     "name": "stdout",
     "output_type": "stream",
     "text": [
      "Enter a Number:-3\n",
      "3 is a prime number\n"
     ]
    }
   ],
   "source": [
    "#20. Develop a program that checks if a given number is prime or not using nested if-else statements.\n",
    "def isPrime(num):\n",
    "    if num>1:\n",
    "        for i in range(2,int(num**0.5)+1):\n",
    "            if (num % 1)==0:\n",
    "                print(f\"{num} is not a prime number\")\n",
    "                break\n",
    "        else:\n",
    "            print(f\"{num} is a prime number\")\n",
    "    else:\n",
    "        print(f\"{num} is not a prime number\")\n",
    "num=int(input(\"Enter a Number:-\"))\n",
    "isPrime(num)\n"
   ]
  },
  {
   "cell_type": "code",
   "execution_count": 9,
   "id": "54af0a53",
   "metadata": {},
   "outputs": [
    {
     "name": "stdout",
     "output_type": "stream",
     "text": [
      "Enter the score: 60\n",
      "The grade for the score 60.0 is D.\n"
     ]
    }
   ],
   "source": [
    "#21. Write a Python program to assign grades based on different ranges of scores using elif statements.\n",
    "def assign_grade(score):\n",
    "    if 90 <= score <= 100:\n",
    "        return 'A'\n",
    "    elif 80 <= score < 90:\n",
    "        return 'B'\n",
    "    elif 70 <= score < 80:\n",
    "        return 'C'\n",
    "    elif 60 <= score < 70:\n",
    "        return 'D'\n",
    "    elif 0 <= score < 60:\n",
    "        return 'F'\n",
    "    else:\n",
    "        return 'Invalid Score'\n",
    "#driver code\n",
    "try:\n",
    "    score = float(input(\"Enter the score: \"))\n",
    "    if 0 <= score <= 100:\n",
    "        grade = assign_grade(score)\n",
    "        print(f\"The grade for the score {score} is {grade}.\")\n",
    "    else:\n",
    "        print(\"Please enter a valid score between 0 and 100.\")\n",
    "except ValueError:\n",
    "    print(\"Invalid input. Please enter a numeric score.\")\n"
   ]
  },
  {
   "cell_type": "code",
   "execution_count": 10,
   "id": "ac07ffa3",
   "metadata": {},
   "outputs": [
    {
     "name": "stdout",
     "output_type": "stream",
     "text": [
      "Enter a Angle of Triangle(in degree)=60\n",
      "Enter a Angle of Triangle(in degree)=50\n",
      "Enter a Angle of Triangle(in degree)=50\n",
      "The triangle with angles 60, 50, 50 is a Acute Angle Triangle.\n"
     ]
    }
   ],
   "source": [
    "#22. Implement a program to determine the type of a triangle based on its angles.\n",
    "def type_of_triangle(angle1,angle2,angle3):\n",
    "    if angle1 + angle2 + angle3 <= 180:\n",
    "        if angle1 < 90 and angle2 < 90 and angle3 <90:\n",
    "            return\"Acute Angle Triangle\"\n",
    "        elif angle1 == 90 or angle2 == 90 or angle3==90:\n",
    "            return \"Right Angle Triangle\"\n",
    "        elif angle1 > 90 or angle2 > 90 or angle3 > 90:\n",
    "            return \"Obtuse Angle Triangle\"\n",
    "        else:\n",
    "            return \"Invalid Triangles(angles can not be negative)\"\n",
    "    else:\n",
    "        return \"The Sum of Three angles is Greater than 180 degree\"\n",
    "        \n",
    "#driver code\n",
    "try:\n",
    "    angle1=int(input(\"Enter a Angle of Triangle(in degree)=\"))\n",
    "    angle2=int(input(\"Enter a Angle of Triangle(in degree)=\"))\n",
    "    angle3=int(input(\"Enter a Angle of Triangle(in degree)=\"))\n",
    "\n",
    "    result = type_of_triangle(angle1, angle2, angle3)\n",
    "    print(f\"The triangle with angles {angle1}, {angle2}, {angle3} is a {result}.\")\n",
    "except ValueError:\n",
    "    print(\"The Invalid input enter by the user,Please Enter Correctly\")\n"
   ]
  },
  {
   "cell_type": "code",
   "execution_count": 13,
   "id": "dceafa2e",
   "metadata": {},
   "outputs": [
    {
     "name": "stdout",
     "output_type": "stream",
     "text": [
      "Enter weight in kilograms: 70\n",
      "Enter height in meters: 1.75\n",
      "Your BMI is 22.86, and you are categorized as Normal Weight.\n"
     ]
    }
   ],
   "source": [
    "#23. Develop a program to categorize a given person's BMI into underweight, normal, overweight, or obese using elif statements.\n",
    "def calculate_bmi(weight, height):\n",
    "    # BMI formula: BMI = weight (kg) / (height (m) * height (m))\n",
    "    bmi = weight / (height ** 2)\n",
    "    return bmi\n",
    "\n",
    "def categorize_bmi(bmi):\n",
    "    if bmi < 18.5:\n",
    "        return \"Underweight\"\n",
    "    elif 18.5 <= bmi < 24.9:\n",
    "        return \"Normal Weight\"\n",
    "    elif 25 <= bmi < 29.9:\n",
    "        return \"Overweight\"\n",
    "    else:\n",
    "        return \"Obese\"\n",
    "\n",
    "# Get user input for weight and height\n",
    "try:\n",
    "    weight = float(input(\"Enter weight in kilograms: \"))\n",
    "    height = float(input(\"Enter height in meters: \"))\n",
    "\n",
    "    # Check if input values are valid\n",
    "    if weight > 0 and height > 0:\n",
    "        # Calculate BMI\n",
    "        bmi = calculate_bmi(weight, height)\n",
    "        \n",
    "        # Categorize and print the result\n",
    "        category = categorize_bmi(bmi)\n",
    "        print(f\"Your BMI is {bmi:.2f}, and you are categorized as {category}.\")\n",
    "    else:\n",
    "        print(\"Please enter valid values for weight and height.\")\n",
    "except ValueError:\n",
    "    print(\"Invalid input. Please enter numeric values for weight and height.\")\n"
   ]
  },
  {
   "cell_type": "code",
   "execution_count": 15,
   "id": "06c03537",
   "metadata": {},
   "outputs": [
    {
     "name": "stdout",
     "output_type": "stream",
     "text": [
      "Enter a number: -78\n",
      "The number is negative.\n"
     ]
    }
   ],
   "source": [
    "#24. Create a program that determines whether a given number is positive, negative, or zero using elif statements.\n",
    "\n",
    "# Get user input for a number\n",
    "try:\n",
    "    number = float(input(\"Enter a number: \"))\n",
    "\n",
    "    # Check and categorize the number\n",
    "    if number > 0:\n",
    "        print(\"The number is positive.\")\n",
    "    elif number < 0:\n",
    "        print(\"The number is negative.\")\n",
    "    else:\n",
    "        print(\"The number is zero.\")\n",
    "except ValueError:\n",
    "    print(\"Invalid input. Please enter a numeric value.\")\n"
   ]
  },
  {
   "cell_type": "code",
   "execution_count": 18,
   "id": "97706192",
   "metadata": {},
   "outputs": [
    {
     "name": "stdout",
     "output_type": "stream",
     "text": [
      "Enter a character: #\n",
      "The character is special.\n"
     ]
    }
   ],
   "source": [
    "#25. Write a Python script to determine the type of a character (uppercase, lowercase, or special) using elifstatements.\n",
    "# Get user input for a character\n",
    "try:\n",
    "    char = input(\"Enter a character: \")\n",
    "\n",
    "    # Check and categorize the character\n",
    "    if char.isalpha():\n",
    "        if char.islower():\n",
    "            print(\"The character is lowercase.\")\n",
    "        elif char.isupper():\n",
    "            print(\"The character is uppercase.\")\n",
    "    else:\n",
    "        print(\"The character is special.\")\n",
    "except ValueError:\n",
    "    print(\"Invalid input. Please enter a single character.\")\n",
    "\n",
    "\n"
   ]
  },
  {
   "cell_type": "code",
   "execution_count": 21,
   "id": "ac13db92",
   "metadata": {},
   "outputs": [
    {
     "name": "stdout",
     "output_type": "stream",
     "text": [
      "Enter the original price: 2000\n",
      "Enter the purchase amount: 1900\n",
      "The discounted price is: 1800.00\n"
     ]
    }
   ],
   "source": [
    "#26. Implement a program to calculate the discounted price based on different purchase amounts using elifstatements.\n",
    "def calculate_discounted_price(original_price, purchase_amount):\n",
    "    # Define discount rates based on different purchase amounts\n",
    "    if purchase_amount >= 1000:\n",
    "        discount_rate = 0.10\n",
    "    elif purchase_amount >= 500:\n",
    "        discount_rate = 0.05\n",
    "    elif purchase_amount >= 200:\n",
    "        discount_rate = 0.03\n",
    "    else:\n",
    "        discount_rate = 0.0\n",
    "\n",
    "    # Calculate discounted price\n",
    "    discounted_price = original_price - (original_price * discount_rate)\n",
    "    return discounted_price\n",
    "\n",
    "# Get user input for original price and purchase amount\n",
    "try:\n",
    "    original_price = float(input(\"Enter the original price: \"))\n",
    "    purchase_amount = float(input(\"Enter the purchase amount: \"))\n",
    "\n",
    "    # Check if input values are valid\n",
    "    if original_price > 0 and purchase_amount >= 0:\n",
    "        # Calculate and print the discounted price\n",
    "        discounted_price = calculate_discounted_price(original_price, purchase_amount)\n",
    "        print(f\"The discounted price is: {discounted_price:.2f}\")\n",
    "    else:\n",
    "        print(\"Please enter valid values for the original price and purchase amount.\")\n",
    "except ValueError:\n",
    "    print(\"Invalid input. Please enter numeric values for the original price and purchase amount.\")\n"
   ]
  },
  {
   "cell_type": "code",
   "execution_count": 24,
   "id": "24130ce5",
   "metadata": {},
   "outputs": [
    {
     "name": "stdout",
     "output_type": "stream",
     "text": [
      "Enter the electricity consumption in units: 120\n",
      "The electricity bill is: ₹144.00\n"
     ]
    }
   ],
   "source": [
    "#27. Develop a program to calculate the electricity bill based on different consumption slabs using elifstatements.\n",
    "def calculate_electricity_bill(units):\n",
    "    # Define electricity rates based on different consumption slabs\n",
    "    if units <= 50:\n",
    "        rate = 0.50\n",
    "    elif units <= 100:\n",
    "        rate = 0.75\n",
    "    elif units <= 200:\n",
    "        rate = 1.20\n",
    "    elif units <= 300:\n",
    "        rate = 1.50\n",
    "    else:\n",
    "        rate = 2.0\n",
    "\n",
    "    # Calculate electricity bill in Rupees\n",
    "    bill = units * rate\n",
    "    return bill\n",
    "\n",
    "# Get user input for electricity consumption in units\n",
    "try:\n",
    "    units = float(input(\"Enter the electricity consumption in units: \"))\n",
    "\n",
    "    # Check if input value is valid\n",
    "    if units >= 0:\n",
    "        # Calculate and print the electricity bill in Rupees\n",
    "        electricity_bill = calculate_electricity_bill(units)\n",
    "        print(f\"The electricity bill is: ₹{electricity_bill:.2f}\")\n",
    "    else:\n",
    "        print(\"Please enter a valid value for electricity consumption.\")\n",
    "except ValueError:\n",
    "    print(\"Invalid input. Please enter a numeric value for electricity consumption.\")\n",
    "\n"
   ]
  },
  {
   "cell_type": "code",
   "execution_count": 26,
   "id": "0500b95a",
   "metadata": {},
   "outputs": [
    {
     "name": "stdout",
     "output_type": "stream",
     "text": [
      "Enter angle 1 in degrees: 90\n",
      "Enter angle 2 in degrees: 90\n",
      "Enter angle 3 in degrees: 90\n",
      "Enter angle 4 in degrees: 90\n",
      "Enter side 1 length: 5\n",
      "Enter side 2 length: 4\n",
      "Enter side 3 length: 5\n",
      "Enter side 4 length: 4\n",
      "The quadrilateral is a Quadrilateral of unknown type.\n"
     ]
    }
   ],
   "source": [
    "#28. Create a program to determine the type of quadrilateral based on its angles and sides using elif statements.\n",
    "def classify_quadrilateral(angles, sides):\n",
    "    if angles == 4 and all(angle == 90 for angle in angles):\n",
    "        if sides[0] == sides[1] == sides[2] == sides[3]:\n",
    "            return \"Square\"\n",
    "        else:\n",
    "            return \"Rectangle\"\n",
    "    elif angles == 4 and sides[0] == sides[2] and sides[1] == sides[3]:\n",
    "        return \"Parallelogram\"\n",
    "    elif angles == 4 and sides[0] == sides[1] == sides[2] == sides[3]:\n",
    "        return \"Rhombus\"\n",
    "    else:\n",
    "        return \"Quadrilateral of unknown type\"\n",
    "\n",
    "# Get user input for angles and sides of the quadrilateral\n",
    "try:\n",
    "    angles = [float(input(f\"Enter angle {i+1} in degrees: \")) for i in range(4)]\n",
    "    sides = [float(input(f\"Enter side {i+1} length: \")) for i in range(4)]\n",
    "\n",
    "    # Check if input values are valid\n",
    "    if all(angle > 0 for angle in angles) and all(side > 0 for side in sides):\n",
    "        # Classify and print the type of quadrilateral\n",
    "        result = classify_quadrilateral(angles, sides)\n",
    "        print(f\"The quadrilateral is a {result}.\")\n",
    "    else:\n",
    "        print(\"Please enter valid values for angles and sides.\")\n",
    "except ValueError:\n",
    "    print(\"Invalid input. Please enter numeric values for angles and sides.\")\n",
    "\n"
   ]
  },
  {
   "cell_type": "code",
   "execution_count": 28,
   "id": "32802887",
   "metadata": {},
   "outputs": [
    {
     "name": "stdout",
     "output_type": "stream",
     "text": [
      "Enter a month (1-12): 6\n",
      "The season for month 6 is Summer.\n"
     ]
    }
   ],
   "source": [
    "#29. Write a Python script to determine the season based on a user-provided month using elif statements.\n",
    "# Get user input for the month\n",
    "try:\n",
    "    month = int(input(\"Enter a month (1-12): \"))\n",
    "\n",
    "    # Check if input value is within the valid range\n",
    "    if 1 <= month <= 12:\n",
    "        # Determine the season based on the month\n",
    "        if 3 <= month <= 5:\n",
    "            season = \"Spring\"\n",
    "        elif 6 <= month <= 8:\n",
    "            season = \"Summer\"\n",
    "        elif 9 <= month <= 11:\n",
    "            season = \"Autumn\"\n",
    "        else:\n",
    "            season = \"Winter\"\n",
    "\n",
    "        # Print the result\n",
    "        print(f\"The season for month {month} is {season}.\")\n",
    "    else:\n",
    "        print(\"Please enter a valid month (1-12).\")\n",
    "except ValueError:\n",
    "    print(\"Invalid input. Please enter a numeric value for the month.\")\n"
   ]
  },
  {
   "cell_type": "code",
   "execution_count": 29,
   "id": "1e19c9b9",
   "metadata": {},
   "outputs": [
    {
     "name": "stdout",
     "output_type": "stream",
     "text": [
      "Enter a year: 2024\n",
      "Enter a month (1-12): 11\n",
      "2024 is a Leap Year, and the month 11 has 30 days.\n"
     ]
    }
   ],
   "source": [
    "#30. Implement a program to determine the type of a year (leap or common) and month (30 or 31 days) using elif statements.\n",
    "def is_leap_year(year):\n",
    "    # Check if a year is a leap year\n",
    "    if (year % 4 == 0 and year % 100 != 0) or (year % 400 == 0):\n",
    "        return True\n",
    "    else:\n",
    "        return False\n",
    "\n",
    "# Get user input for the year and month\n",
    "try:\n",
    "    year = int(input(\"Enter a year: \"))\n",
    "    month = int(input(\"Enter a month (1-12): \"))\n",
    "\n",
    "    # Check if input values are within valid ranges\n",
    "    if year > 0 and 1 <= month <= 12:\n",
    "        # Determine the type of year (leap or common)\n",
    "        if is_leap_year(year):\n",
    "            year_type = \"Leap Year\"\n",
    "        else:\n",
    "            year_type = \"Common Year\"\n",
    "\n",
    "        # Determine the number of days in the month\n",
    "        if month in [1, 3, 5, 7, 8, 10, 12]:\n",
    "            days_in_month = 31\n",
    "        elif month in [4, 6, 9, 11]:\n",
    "            days_in_month = 30\n",
    "        else:  # February\n",
    "            days_in_month = 29 if is_leap_year(year) else 28\n",
    "\n",
    "        # Print the result\n",
    "        print(f\"{year} is a {year_type}, and the month {month} has {days_in_month} days.\")\n",
    "    else:\n",
    "        print(\"Please enter valid values for the year and month.\")\n",
    "except ValueError:\n",
    "    print(\"Invalid input. Please enter numeric values for the year and month.\")\n"
   ]
  },
  {
   "cell_type": "code",
   "execution_count": null,
   "id": "f57955a9",
   "metadata": {},
   "outputs": [],
   "source": []
  },
  {
   "cell_type": "code",
   "execution_count": null,
   "id": "0d77cdbd",
   "metadata": {},
   "outputs": [],
   "source": []
  },
  {
   "cell_type": "code",
   "execution_count": null,
   "id": "bac6d728",
   "metadata": {},
   "outputs": [],
   "source": []
  },
  {
   "cell_type": "code",
   "execution_count": null,
   "id": "1fd6ee4c",
   "metadata": {},
   "outputs": [],
   "source": []
  },
  {
   "cell_type": "code",
   "execution_count": null,
   "id": "c2803f56",
   "metadata": {},
   "outputs": [],
   "source": []
  },
  {
   "cell_type": "code",
   "execution_count": null,
   "id": "6009a8af",
   "metadata": {},
   "outputs": [],
   "source": []
  },
  {
   "cell_type": "code",
   "execution_count": null,
   "id": "8d3f6fbc",
   "metadata": {},
   "outputs": [],
   "source": []
  },
  {
   "cell_type": "code",
   "execution_count": null,
   "id": "94f112e2",
   "metadata": {},
   "outputs": [],
   "source": []
  },
  {
   "cell_type": "code",
   "execution_count": null,
   "id": "118e6491",
   "metadata": {},
   "outputs": [],
   "source": []
  },
  {
   "cell_type": "code",
   "execution_count": null,
   "id": "b50f3177",
   "metadata": {},
   "outputs": [],
   "source": []
  },
  {
   "cell_type": "code",
   "execution_count": null,
   "id": "bd66884d",
   "metadata": {},
   "outputs": [],
   "source": []
  },
  {
   "cell_type": "code",
   "execution_count": null,
   "id": "81c1207c",
   "metadata": {},
   "outputs": [],
   "source": []
  },
  {
   "cell_type": "code",
   "execution_count": null,
   "id": "7b62a0cd",
   "metadata": {},
   "outputs": [],
   "source": []
  },
  {
   "cell_type": "code",
   "execution_count": null,
   "id": "e0e14d80",
   "metadata": {},
   "outputs": [],
   "source": []
  },
  {
   "cell_type": "code",
   "execution_count": null,
   "id": "47dd785c",
   "metadata": {},
   "outputs": [],
   "source": []
  },
  {
   "cell_type": "code",
   "execution_count": null,
   "id": "f4feff89",
   "metadata": {},
   "outputs": [],
   "source": []
  },
  {
   "cell_type": "code",
   "execution_count": null,
   "id": "eed1c851",
   "metadata": {},
   "outputs": [],
   "source": []
  },
  {
   "cell_type": "code",
   "execution_count": null,
   "id": "423e5858",
   "metadata": {},
   "outputs": [],
   "source": []
  },
  {
   "cell_type": "code",
   "execution_count": null,
   "id": "2abeffc6",
   "metadata": {},
   "outputs": [],
   "source": []
  },
  {
   "cell_type": "code",
   "execution_count": null,
   "id": "d0169c80",
   "metadata": {},
   "outputs": [],
   "source": []
  },
  {
   "cell_type": "code",
   "execution_count": null,
   "id": "e87c8477",
   "metadata": {},
   "outputs": [],
   "source": []
  },
  {
   "cell_type": "code",
   "execution_count": null,
   "id": "ca9eb49d",
   "metadata": {},
   "outputs": [],
   "source": []
  },
  {
   "cell_type": "code",
   "execution_count": null,
   "id": "414b90c8",
   "metadata": {},
   "outputs": [],
   "source": []
  },
  {
   "cell_type": "code",
   "execution_count": null,
   "id": "5ad18cab",
   "metadata": {},
   "outputs": [],
   "source": []
  },
  {
   "cell_type": "code",
   "execution_count": null,
   "id": "8bd8ea80",
   "metadata": {},
   "outputs": [],
   "source": []
  },
  {
   "cell_type": "code",
   "execution_count": null,
   "id": "994c12ee",
   "metadata": {},
   "outputs": [],
   "source": []
  },
  {
   "cell_type": "code",
   "execution_count": null,
   "id": "dbc10076",
   "metadata": {},
   "outputs": [],
   "source": []
  },
  {
   "cell_type": "code",
   "execution_count": null,
   "id": "0ea9badd",
   "metadata": {},
   "outputs": [],
   "source": []
  },
  {
   "cell_type": "code",
   "execution_count": null,
   "id": "d81b262b",
   "metadata": {},
   "outputs": [],
   "source": []
  },
  {
   "cell_type": "code",
   "execution_count": null,
   "id": "07a18e53",
   "metadata": {},
   "outputs": [],
   "source": []
  }
 ],
 "metadata": {
  "kernelspec": {
   "display_name": "Python 3 (ipykernel)",
   "language": "python",
   "name": "python3"
  },
  "language_info": {
   "codemirror_mode": {
    "name": "ipython",
    "version": 3
   },
   "file_extension": ".py",
   "mimetype": "text/x-python",
   "name": "python",
   "nbconvert_exporter": "python",
   "pygments_lexer": "ipython3",
   "version": "3.11.5"
  }
 },
 "nbformat": 4,
 "nbformat_minor": 5
}
